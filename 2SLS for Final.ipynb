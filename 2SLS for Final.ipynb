{
 "cells": [
  {
   "cell_type": "markdown",
   "metadata": {},
   "source": [
    "# Sam Borghese Final Exam Quaestion 5"
   ]
  },
  {
   "cell_type": "code",
   "execution_count": 1,
   "metadata": {},
   "outputs": [
    {
     "name": "stderr",
     "output_type": "stream",
     "text": [
      "//anaconda3/lib/python3.7/site-packages/statsmodels/tools/_testing.py:19: FutureWarning: pandas.util.testing is deprecated. Use the functions in the public API at pandas.testing instead.\n",
      "  import pandas.util.testing as tm\n",
      "//anaconda3/lib/python3.7/site-packages/statsmodels/compat/pandas.py:23: FutureWarning: The Panel class is removed from pandas. Accessing it from the top-level namespace will also be removed in the next version\n",
      "  data_klasses = (pandas.Series, pandas.DataFrame, pandas.Panel)\n"
     ]
    }
   ],
   "source": [
    "import pandas as pd\n",
    "import statsmodels.api as sm\n",
    "import numpy as np"
   ]
  },
  {
   "cell_type": "code",
   "execution_count": 2,
   "metadata": {},
   "outputs": [],
   "source": [
    "data = pd.read_csv(\"data.csv\") #import"
   ]
  },
  {
   "cell_type": "markdown",
   "metadata": {},
   "source": [
    "###  Build necssesary dataframes"
   ]
  },
  {
   "cell_type": "code",
   "execution_count": 3,
   "metadata": {},
   "outputs": [],
   "source": [
    "Q = data[\"qty\"]\n",
    "W = data[[\"rainy\",\"cold\",\"day1\",\"day2\",\"day3\",\"day4\"]]\n",
    "P = data[[\"price\"]]\n",
    "instruments = data[['stormy','mixed']]\n",
    "n = len(P)"
   ]
  },
  {
   "cell_type": "code",
   "execution_count": 4,
   "metadata": {},
   "outputs": [],
   "source": [
    "constant = np.ones((n,1))\n",
    "Z = np.concatenate((constant,W,instruments), axis = 1)\n",
    "X = np.concatenate((constant,W,P), axis = 1)\n",
    "Y = Q"
   ]
  },
  {
   "cell_type": "markdown",
   "metadata": {},
   "source": [
    "### Apply 2SLS"
   ]
  },
  {
   "cell_type": "code",
   "execution_count": 5,
   "metadata": {},
   "outputs": [],
   "source": [
    "Qzz = (Z.T @ Z) / n\n",
    "Qzz_inv = np.linalg.inv(Qzz) \n",
    "Qxz = (X.T @ Z) / n\n",
    "Qzy = (Z.T @ Y) / n\n",
    "Qhat = np.linalg.inv(Qxz @ Qzz_inv @ Qxz.T)\n",
    "betahat = Qhat @ (Qxz @ Qzz_inv @ Qzy)\n",
    "ehat = Y - X @ betahat\n",
    "ehat = np.array(ehat).reshape(-1,1)\n",
    "Sigmahat = (Z * ehat).T @ (Z *ehat) / n\n",
    "Vhat = Qhat @ (Qxz @ Qzz_inv @ Sigmahat @ Qzz_inv @ Qxz.T) @ Qhat \n"
   ]
  },
  {
   "cell_type": "code",
   "execution_count": 6,
   "metadata": {},
   "outputs": [],
   "source": [
    "price_place = len(Vhat)-1 # identify the place of price (it's the last one)"
   ]
  },
  {
   "cell_type": "code",
   "execution_count": 7,
   "metadata": {},
   "outputs": [
    {
     "name": "stdout",
     "output_type": "stream",
     "text": [
      "2SLS estimate of Price on Quantity effect is -0.9154369298522091\n",
      "Standard error is 0.11473995773462241\n",
      "95% confidence interval is [-1.1403272470120691,-0.6905466126923492]\n"
     ]
    }
   ],
   "source": [
    "sdhat = np.sqrt(Vhat[price_place,price_place]) / np.sqrt(n)\n",
    "cil = betahat[price_place] - 1.96 * sdhat\n",
    "cir = betahat[price_place] + 1.96 * sdhat\n",
    "print(\"2SLS estimate of Price on Quantity effect is \"\n",
    "+ str(betahat[price_place]))\n",
    "print(\"Standard error is \" + str(sdhat))\n",
    "print(\"95% confidence interval is [\" + str(cil) + \",\"\n",
    "+ str(cir) + \"]\")"
   ]
  }
 ],
 "metadata": {
  "kernelspec": {
   "display_name": "Python 3",
   "language": "python",
   "name": "python3"
  },
  "language_info": {
   "codemirror_mode": {
    "name": "ipython",
    "version": 3
   },
   "file_extension": ".py",
   "mimetype": "text/x-python",
   "name": "python",
   "nbconvert_exporter": "python",
   "pygments_lexer": "ipython3",
   "version": "3.7.3"
  }
 },
 "nbformat": 4,
 "nbformat_minor": 2
}
